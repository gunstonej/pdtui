{
 "cells": [
  {
   "cell_type": "code",
   "execution_count": 2,
   "id": "056687fc-833c-4a78-89e2-47226b17f52c",
   "metadata": {},
   "outputs": [
    {
     "data": {
      "text/html": [
       "<a href='data/AirGrilleDiffuser.xml' target='_blank'>data/AirGrilleDiffuser.xml</a><br>"
      ],
      "text/plain": [
       "/mnt/c/engDev/git_mf/pdtui/data/AirGrilleDiffuser.xml"
      ]
     },
     "metadata": {},
     "output_type": "display_data"
    },
    {
     "data": {
      "application/json": {
       "pdt": {
        "@pds": "false",
        "@pdtid": "40",
        "@xmlns:xsi": "http://www.w3.org/2001/XMLSchema-instance",
        "@xsi:noNamespaceSchemaLocation": "pdt.xsd",
        "header": {
         "IfcEntityType": "IfcAirTerminalType",
         "IfcEntityTypeEnum": "DIFFUSER",
         "categoryDescription": "Supply and extract air terminals (excluding external louvres & transfer grilles)",
         "classification": "Pr_70_65_04",
         "classificationSystem": "Uniclass2015",
         "suitabilityForUse": "Approved",
         "templateCategory": "Air Grille/Diffuser",
         "templateCustodian": "CIBSE",
         "templateName": "Air Grille Diffuser",
         "templateVersion": "v1"
        },
        "params": {
         "parameter": [
          {
           "@id": "1",
           "@isInstance": "false",
           "category": "COBie Data",
           "description": "The Manufacturer of this particular Product",
           "guid": {
            "#text": "929bda00-d1ec-11e1-8000-00215ad4efdf",
            "@source": "bsDD"
           },
           "name": {
            "#text": "Manufacturer",
            "@idx": "1"
           },
           "notes": "This is a COBie field, other fields will be required in final PDTs",
           "section": {
            "#text": "Manufacturer Data",
            "@idx": "1"
           },
           "units": {
            "@enum": "false",
            "@type": "Text",
            "unitOpt": {
             "#text": "Text",
             "@conversion": "1"
            }
           },
           "value": null
          },
          {
           "@id": "2",
           "@isInstance": "false",
           "category": "Specifications",
           "description": null,
           "guid": {
            "#text": "2e28aa00-71ac-4225-85be-b9fc09e4484e",
            "@source": "bsDD"
           },
           "name": {
            "#text": "Manufacturer Website",
            "@idx": "2"
           },
           "notes": null,
           "section": {
            "#text": "Manufacturer Data",
            "@idx": "1"
           },
           "units": {
            "@enum": "false",
            "@type": "URL",
            "unitOpt": {
             "#text": "URL",
             "@conversion": "1"
            }
           },
           "value": null
          },
          {
           "@id": "3",
           "@isInstance": "false",
           "category": "Specifications",
           "description": null,
           "guid": {
            "#text": "904d10a4-dabe-4ebe-a3d7-829809363445",
            "@source": "bsDD"
           },
           "name": {
            "#text": "Product Range",
            "@idx": "3"
           },
           "notes": null,
           "section": {
            "#text": "Manufacturer Data",
            "@idx": "1"
           },
           "units": {
            "@enum": "false",
            "@type": "Text",
            "unitOpt": {
             "#text": "Text",
             "@conversion": "1"
            }
           },
           "value": null
          },
          {
           "@id": "4",
           "@isInstance": "false",
           "category": "Specifications",
           "description": null,
           "guid": {
            "#text": "08657381-7d09-469b-a51b-62d128b0f600",
            "@source": "bsDD"
           },
           "name": {
            "#text": "Product Model Number",
            "@idx": "4"
           },
           "notes": "Or Code",
           "section": {
            "#text": "Manufacturer Data",
            "@idx": "1"
           },
           "units": {
            "@enum": "false",
            "@type": "Text",
            "unitOpt": {
             "#text": "Text",
             "@conversion": "1"
            }
           },
           "value": null
          },
          {
           "@id": "5",
           "@isInstance": "false",
           "category": "Specifications",
           "description": null,
           "guid": {
            "#text": "36653080-2bd2-11dc-0000-00065b0526ef",
            "@source": "bsDD"
           },
           "name": {
            "#text": "CE Mark",
            "@idx": "5"
           },
           "notes": "Number, Yes, No",
           "section": {
            "#text": "Manufacturer Data",
            "@idx": "1"
           },
           "units": {
            "@enum": "false",
            "@type": "Text",
            "unitOpt": {
             "#text": "Text",
             "@conversion": "1"
            }
           },
           "value": null
          },
          {
           "@id": "6",
           "@isInstance": "false",
           "category": "Specifications",
           "description": null,
           "guid": {
            "#text": "21adde3f-d8a8-40c8-ab4e-cdeb27346226",
            "@source": "bsDD"
           },
           "name": {
            "#text": "Product Literature",
            "@idx": "6"
           },
           "notes": null,
           "section": {
            "#text": "Manufacturer Data",
            "@idx": "1"
           },
           "units": {
            "@enum": "false",
            "@type": "URL",
            "unitOpt": {
             "#text": "URL",
             "@conversion": "1"
            }
           },
           "value": null
          },
          {
           "@id": "7",
           "@isInstance": "false",
           "category": "COBie Data",
           "description": null,
           "guid": {
            "#text": "629aba07-a368-41bc-a3d9-18b6e8d86058",
            "@source": "bsDD"
           },
           "name": {
            "#text": "Features",
            "@idx": "7"
           },
           "notes": "This is a COBie field, other fields will be required in final PDTs",
           "section": {
            "#text": "Manufacturer Data",
            "@idx": "1"
           },
           "units": {
            "@enum": "false",
            "@type": "Text",
            "unitOpt": {
             "#text": "Text",
             "@conversion": "1"
            }
           },
           "value": null
          },
          {
           "@id": "372",
           "@isInstance": "false",
           "category": "Specifications",
           "description": null,
           "guid": {
            "#text": "7b92c300-d1bf-11e1-8000-00215ad4efdf",
            "@source": "bsDD"
           },
           "name": {
            "#text": "Face Type",
            "@idx": "8"
           },
           "notes": null,
           "section": {
            "#text": "Construction Data",
            "@idx": "2"
           },
           "units": {
            "@enum": "false",
            "@type": "Enumeration",
            "unitOpt": {
             "#text": "Enumeration",
             "@conversion": "1"
            }
           },
           "value": {
            "enumItem": [
             "FourWayPattern",
             "SingleDeflection",
             "DoubleDeflection",
             "SightProof",
             "EggCrate",
             "Perforated",
             "Louvered",
             "High induction slot",
             "Other",
             "NotKnown",
             "Unset"
            ]
           }
          },
          {
           "@id": "9",
           "@isInstance": "false",
           "category": "COBie Data",
           "description": null,
           "guid": {
            "#text": "c1b014a1-8423-430a-b617-f0b44ebd8bb6",
            "@source": "bsDD"
           },
           "name": {
            "#text": "Shape",
            "@idx": "9"
           },
           "notes": "This is a COBie field, other fields will be required in final PDTs",
           "section": {
            "#text": "Construction Data",
            "@idx": "2"
           },
           "units": {
            "@enum": "false",
            "@type": "Enumeration",
            "unitOpt": {
             "#text": "Enumeration",
             "@conversion": "1"
            }
           },
           "value": {
            "enumItem": [
             "Round",
             "Rectangular",
             "Square",
             "Slot",
             "Other",
             "NotKnown",
             "Unset"
            ]
           }
          },
          {
           "@id": "373",
           "@isInstance": "false",
           "category": "Specifications",
           "description": null,
           "guid": {
            "#text": "f94672f8-c9d0-11db-0000-005056c00008",
            "@source": "bsDD"
           },
           "name": {
            "#text": "Trim",
            "@idx": "10"
           },
           "notes": null,
           "section": {
            "#text": "Construction Data",
            "@idx": "2"
           },
           "units": {
            "@enum": "false",
            "@type": "Enumeration",
            "unitOpt": {
             "#text": "Enumeration",
             "@conversion": "1"
            }
           },
           "value": {
            "enumItem": [
             "Flange",
             "Plate",
             "None",
             "Other",
             "NotKnown",
             "Unset"
            ]
           }
          },
          {
           "@id": "374",
           "@isInstance": "false",
           "category": "Specifications",
           "description": null,
           "guid": {
            "#text": "4cb16c10-e204-4e8c-9dfe-0152132853d2",
            "@source": "bsDD"
           },
           "name": {
            "#text": "Trim Material",
            "@idx": "11"
           },
           "notes": "e.g. Aluminium, Galvanised MS Steel, Stainless Steel, Plastic, etc.",
           "section": {
            "#text": "Construction Data",
            "@idx": "2"
           },
           "units": {
            "@enum": "false",
            "@type": "Text",
            "unitOpt": {
             "#text": "Text",
             "@conversion": "1"
            }
           },
           "value": null
          },
          {
           "@id": "805",
           "@isInstance": "false",
           "category": "Specifications",
           "description": null,
           "guid": {
            "#text": "92db7ded-05b2-4d72-aa5b-95d770224c90",
            "@source": "BimHawk"
           },
           "name": {
            "#text": "Trim Finish",
            "@idx": "12"
           },
           "notes": "e.g. Natural, Painted, Anodised, etc.",
           "section": {
            "#text": "Construction Data",
            "@idx": "2"
           },
           "units": {
            "@enum": "false",
            "@type": "Enumeration",
            "unitOpt": {
             "#text": "Enumeration",
             "@conversion": "1"
            }
           },
           "value": {
            "enumItem": [
             "Annodized",
             "Painted",
             "Milled",
             "None",
             "Other",
             "NotKnown",
             "Unset"
            ]
           }
          },
          {
           "@id": "376",
           "@isInstance": "false",
           "category": "Specifications",
           "description": null,
           "guid": {
            "#text": "4211d862-4567-4918-ada2-b1679191b48f",
            "@source": "BimHawk"
           },
           "name": {
            "#text": "Trim Colour",
            "@idx": "13"
           },
           "notes": "e.g. Natural (Self-finish), or Colour(s) & RAL(s)",
           "section": {
            "#text": "Construction Data",
            "@idx": "2"
           },
           "units": {
            "@enum": "false",
            "@type": "Text",
            "unitOpt": {
             "#text": "Text",
             "@conversion": "1"
            }
           },
           "value": null
          },
          {
           "@id": "377",
           "@isInstance": "false",
           "category": "Specifications",
           "description": null,
           "guid": {
            "#text": "070c5400-d1c0-11e1-8000-00215ad4efdf",
            "@source": "bsDD"
           },
           "name": {
            "#text": "Core Type",
            "@idx": "14"
           },
           "notes": null,
           "section": {
            "#text": "Construction Data",
            "@idx": "2"
           },
           "units": {
            "@enum": "false",
            "@type": "Enumeration",
            "unitOpt": {
             "#text": "Enumeration",
             "@conversion": "1"
            }
           },
           "value": {
            "enumItem": [
             "ShutterBlade",
             "CurvedBlade",
             "Removable",
             "Reversible",
             "None",
             "Other",
             "NotKnown",
             "Unset"
            ]
           }
          },
          {
           "@id": "378",
           "@isInstance": "false",
           "category": "Specifications",
           "description": null,
           "guid": {
            "#text": "70e18600-7dcd-11df-0000-00215ad4efdf",
            "@source": "bsDD"
           },
           "name": {
            "#text": "Core Material",
            "@idx": "15"
           },
           "notes": "e.g. Aluminium, Galvanised MS Steel, Stainless Steel, Plastic, etc.",
           "section": {
            "#text": "Construction Data",
            "@idx": "2"
           },
           "units": {
            "@enum": "false",
            "@type": "Text",
            "unitOpt": {
             "#text": "Text",
             "@conversion": "1"
            }
           },
           "value": null
          },
          {
           "@id": "379",
           "@isInstance": "false",
           "category": "Specifications",
           "description": null,
           "guid": {
            "#text": "77121761-313e-4697-b1d2-fa29ecd8869b",
            "@source": "BimHawk"
           },
           "name": {
            "#text": "Core Finish",
            "@idx": "16"
           },
           "notes": null,
           "section": {
            "#text": "Construction Data",
            "@idx": "2"
           },
           "units": {
            "@enum": "false",
            "@type": "Enumeration",
            "unitOpt": {
             "#text": "Enumeration",
             "@conversion": "1"
            }
           },
           "value": {
            "enumItem": [
             "Annodized",
             "Painted",
             "None",
             "Other",
             "NotKnown",
             "Unset"
            ]
           }
          },
          {
           "@id": "380",
           "@isInstance": "false",
           "category": "Specifications",
           "description": null,
           "guid": {
            "#text": "2a2f525f-6c98-43d1-baf5-eb4dd6d08fd8",
            "@source": "BimHawk"
           },
           "name": {
            "#text": "Core Color",
            "@idx": "17"
           },
           "notes": "e.g. Natural (Self-finish), or Colour(s) & RAL(s)",
           "section": {
            "#text": "Construction Data",
            "@idx": "2"
           },
           "units": {
            "@enum": "false",
            "@type": "Text",
            "unitOpt": {
             "#text": "Text",
             "@conversion": "1"
            }
           },
           "value": null
          },
          {
           "@id": "381",
           "@isInstance": "false",
           "category": "Specifications",
           "description": null,
           "guid": {
            "#text": "94529ef0-b42d-4057-a91c-3ee7b9430935",
            "@source": "BimHawk"
           },
           "name": {
            "#text": "Removable Core",
            "@idx": "18"
           },
           "notes": null,
           "section": {
            "#text": "Construction Data",
            "@idx": "2"
           },
           "units": {
            "@enum": "false",
            "@type": "Y/N",
            "unitOpt": {
             "#text": "Y/N",
             "@conversion": "1"
            }
           },
           "value": {
            "enumItem": [
             "Y",
             "N"
            ]
           }
          },
          {
           "@id": "382",
           "@isInstance": "false",
           "category": "Specifications",
           "description": null,
           "guid": {
            "#text": "99cdfdc6-4ea1-46a7-854f-8aeced3b7ad6",
            "@source": "BimHawk"
           },
           "name": {
            "#text": "Integral Plenum",
            "@idx": "19"
           },
           "notes": null,
           "section": {
            "#text": "Construction Data",
            "@idx": "2"
           },
           "units": {
            "@enum": "false",
            "@type": "Y/N",
            "unitOpt": {
             "#text": "Y/N",
             "@conversion": "1"
            }
           },
           "value": {
            "enumItem": [
             "Y",
             "N"
            ]
           }
          },
          {
           "@id": "383",
           "@isInstance": "false",
           "category": "Specifications",
           "description": null,
           "guid": {
            "#text": "74255540-e98b-4a0f-9f35-93e83502d9bb",
            "@source": "BimHawk"
           },
           "name": {
            "#text": "Integral Plenum Material",
            "@idx": "20"
           },
           "notes": "e.g. Aluminium, Galvanised MS Steel, Stainless Steel, etc.",
           "section": {
            "#text": "Construction Data",
            "@idx": "2"
           },
           "units": {
            "@enum": "false",
            "@type": "Text",
            "unitOpt": {
             "#text": "Text",
             "@conversion": "1"
            }
           },
           "value": null
          },
          {
           "@id": "384",
           "@isInstance": "false",
           "category": "Specifications",
           "description": null,
           "guid": {
            "#text": "1f338201-ea92-4d1d-b906-325871480065",
            "@source": "BimHawk"
           },
           "name": {
            "#text": "Integral Volume Control Damper",
            "@idx": "21"
           },
           "notes": null,
           "section": {
            "#text": "Construction Data",
            "@idx": "2"
           },
           "units": {
            "@enum": "false",
            "@type": "Y/N",
            "unitOpt": {
             "#text": "Y/N",
             "@conversion": "1"
            }
           },
           "value": {
            "enumItem": [
             "Y",
             "N"
            ]
           }
          },
          {
           "@id": "385",
           "@isInstance": "false",
           "category": "Specifications",
           "description": null,
           "guid": {
            "#text": "8a2ed98c-6945-4567-99b6-ade808ef02bf",
            "@source": "BimHawk"
           },
           "name": {
            "#text": "Integral Volume Control Damper Type",
            "@idx": "22"
           },
           "notes": null,
           "section": {
            "#text": "Construction Data",
            "@idx": "2"
           },
           "units": {
            "@enum": "false",
            "@type": "Text",
            "unitOpt": {
             "#text": "Text",
             "@conversion": "1"
            }
           },
           "value": null
          },
          {
           "@id": "386",
           "@isInstance": "false",
           "category": "Specifications",
           "description": null,
           "guid": {
            "#text": "4276fe2c-7c00-4d74-bfd5-42d1a8798b88",
            "@source": "BimHawk"
           },
           "name": {
            "#text": "Integral Volume Control Damper Material",
            "@idx": "23"
           },
           "notes": "e.g. Aluminium, Galvanised MS Steel, Stainless Steel, Plastic, etc.",
           "section": {
            "#text": "Construction Data",
            "@idx": "2"
           },
           "units": {
            "@enum": "false",
            "@type": "Text",
            "unitOpt": {
             "#text": "Text",
             "@conversion": "1"
            }
           },
           "value": null
          },
          {
           "@id": "387",
           "@isInstance": "false",
           "category": "Specifications",
           "description": null,
           "guid": {
            "#text": "c14299b4-ebc0-4c26-a5e1-4139736bb29d",
            "@source": "BimHawk"
           },
           "name": {
            "#text": "Integral Fire Damper",
            "@idx": "24"
           },
           "notes": null,
           "section": {
            "#text": "Construction Data",
            "@idx": "2"
           },
           "units": {
            "@enum": "false",
            "@type": "Y/N",
            "unitOpt": {
             "#text": "Y/N",
             "@conversion": "1"
            }
           },
           "value": {
            "enumItem": [
             "Y",
             "N"
            ]
           }
          },
          {
           "@id": "388",
           "@isInstance": "false",
           "category": "Specifications",
           "description": null,
           "guid": {
            "#text": "e0e6d0b0-e31e-4020-ae22-9d49ce4a33c3",
            "@source": "BimHawk"
           },
           "name": {
            "#text": "Fire Rating",
            "@idx": "25"
           },
           "notes": "e.g. 60 minutes, 120 minutes",
           "section": {
            "#text": "Construction Data",
            "@idx": "2"
           },
           "units": {
            "@enum": "false",
            "@type": "Minutes",
            "unitOpt": {
             "#text": "Minutes",
             "@conversion": "1"
            }
           },
           "value": null
          },
          {
           "@id": "15",
           "@isInstance": "false",
           "category": "Specifications",
           "description": null,
           "guid": {
            "#text": "0417f8fd-3f2e-4a64-9d71-cb73bdddea76",
            "@source": "bsDD"
           },
           "name": {
            "#text": "Overall Length",
            "@idx": "26"
           },
           "notes": "Or Diameter. Minimum and maximum lengths available",
           "section": {
            "#text": "Dimensional Data",
            "@idx": "3"
           },
           "units": {
            "@enum": "false",
            "@type": "mm",
            "unitOpt": {
             "#text": "mm",
             "@conversion": "1"
            }
           },
           "value": null
          },
          {
           "@id": "402",
           "@isInstance": "false",
           "category": "Specifications",
           "description": null,
           "guid": {
            "#text": "f946bd30-c9d0-11db-0000-005056c00008",
            "@source": "bsDD"
           },
           "name": {
            "#text": "Length",
            "@idx": "27"
           },
           "notes": "Outlet Length or Diameter",
           "section": {
            "#text": "Dimensional Data",
            "@idx": "3"
           },
           "units": {
            "@enum": "false",
            "@type": "mm",
            "unitOpt": {
             "#text": "mm",
             "@conversion": "1"
            }
           },
           "value": null
          },
          {
           "@id": "16",
           "@isInstance": "false",
           "category": "Specifications",
           "description": null,
           "guid": {
            "#text": "69337c00-d1f5-11e1-8000-00215ad4efdf",
            "@source": "bsDD"
           },
           "name": {
            "#text": "Overall Width",
            "@idx": "28"
           },
           "notes": "Minimum and maximum widths available",
           "section": {
            "#text": "Dimensional Data",
            "@idx": "3"
           },
           "units": {
            "@enum": "false",
            "@type": "mm",
            "unitOpt": {
             "#text": "mm",
             "@conversion": "1"
            }
           },
           "value": null
          },
          {
           "@id": "403",
           "@isInstance": "false",
           "category": "Specifications",
           "description": null,
           "guid": {
            "#text": "f946c014-c9d0-11db-0000-005056c00008",
            "@source": "bsDD"
           },
           "name": {
            "#text": "Width",
            "@idx": "29"
           },
           "notes": "Outlet Width. For Circular Mark '0'",
           "section": {
            "#text": "Dimensional Data",
            "@idx": "3"
           },
           "units": {
            "@enum": "false",
            "@type": "mm",
            "unitOpt": {
             "#text": "mm",
             "@conversion": "1"
            }
           },
           "value": null
          },
          {
           "@id": "17",
           "@isInstance": "false",
           "category": "Specifications",
           "description": null,
           "guid": {
            "#text": "f946ea1c-c9d0-11db-0000-005056c00008",
            "@source": "bsDD"
           },
           "name": {
            "#text": "Overall Height",
            "@idx": "30"
           },
           "notes": "Minimum and maximum heights available",
           "section": {
            "#text": "Dimensional Data",
            "@idx": "3"
           },
           "units": {
            "@enum": "false",
            "@type": "mm",
            "unitOpt": {
             "#text": "mm",
             "@conversion": "1"
            }
           },
           "value": null
          },
          {
           "@id": "18",
           "@isInstance": "false",
           "category": "Specifications",
           "description": null,
           "guid": {
            "#text": "80ff3b2a-5e0e-45ad-b256-11f86f2d19a8",
            "@source": "bsDD"
           },
           "name": {
            "#text": "Gross Weight",
            "@idx": "31"
           },
           "notes": "Equates to Operating Weight",
           "section": {
            "#text": "Dimensional Data",
            "@idx": "3"
           },
           "units": {
            "@enum": "false",
            "@type": "kg",
            "unitOpt": {
             "#text": "kg",
             "@conversion": "1"
            }
           },
           "value": null
          },
          {
           "@id": "19",
           "@isInstance": "false",
           "category": "Specifications",
           "description": null,
           "guid": {
            "#text": "27235cd5-ae0b-408d-afef-2b20c8144230",
            "@source": "bsDD"
           },
           "name": {
            "#text": "Shipping Weight",
            "@idx": "32"
           },
           "notes": "Equates to dry weight of unit plus packaging allowance",
           "section": {
            "#text": "Dimensional Data",
            "@idx": "3"
           },
           "units": {
            "@enum": "false",
            "@type": "kg",
            "unitOpt": {
             "#text": "kg",
             "@conversion": "1"
            }
           },
           "value": null
          },
          {
           "@id": "20",
           "@isInstance": "false",
           "category": "Specifications",
           "description": null,
           "guid": {
            "#text": "b76a080c-7f43-4eba-a118-72c32898934f",
            "@source": "bsDD"
           },
           "name": {
            "#text": "Access Clearance Top",
            "@idx": "33"
           },
           "notes": "Access required for maintenance of this item",
           "section": {
            "#text": "Dimensional Data",
            "@idx": "3"
           },
           "units": {
            "@enum": "false",
            "@type": "mm",
            "unitOpt": {
             "#text": "mm",
             "@conversion": "1"
            }
           },
           "value": null
          },
          {
           "@id": "21",
           "@isInstance": "false",
           "category": "Specifications",
           "description": null,
           "guid": {
            "#text": "26707549-2383-4198-9214-9fde68dd633a",
            "@source": "bsDD"
           },
           "name": {
            "#text": "Access Clearance Bottom",
            "@idx": "34"
           },
           "notes": "Access required for maintenance of this item",
           "section": {
            "#text": "Dimensional Data",
            "@idx": "3"
           },
           "units": {
            "@enum": "false",
            "@type": "mm",
            "unitOpt": {
             "#text": "mm",
             "@conversion": "1"
            }
           },
           "value": null
          },
          {
           "@id": "22",
           "@isInstance": "false",
           "category": "Specifications",
           "description": null,
           "guid": {
            "#text": "adb71066-ff99-4493-a861-f8eef7ec8c2e",
            "@source": "bsDD"
           },
           "name": {
            "#text": "Access Clearance Left",
            "@idx": "35"
           },
           "notes": "Access required for maintenance of this item",
           "section": {
            "#text": "Dimensional Data",
            "@idx": "3"
           },
           "units": {
            "@enum": "false",
            "@type": "mm",
            "unitOpt": {
             "#text": "mm",
             "@conversion": "1"
            }
           },
           "value": null
          },
          {
           "@id": "23",
           "@isInstance": "false",
           "category": "Specifications",
           "description": null,
           "guid": {
            "#text": "54cdda0d-63dd-445c-8a12-9307b974c3c1",
            "@source": "bsDD"
           },
           "name": {
            "#text": "Access Clearance Right",
            "@idx": "36"
           },
           "notes": "Access required for maintenance of this item",
           "section": {
            "#text": "Dimensional Data",
            "@idx": "3"
           },
           "units": {
            "@enum": "false",
            "@type": "mm",
            "unitOpt": {
             "#text": "mm",
             "@conversion": "1"
            }
           },
           "value": null
          },
          {
           "@id": "24",
           "@isInstance": "false",
           "category": "Specifications",
           "description": null,
           "guid": {
            "#text": "aba304c0-45bc-4e69-9f17-f568224e84f2",
            "@source": "bsDD"
           },
           "name": {
            "#text": "Access Clearance Front",
            "@idx": "37"
           },
           "notes": "Access required for maintenance of this item",
           "section": {
            "#text": "Dimensional Data",
            "@idx": "3"
           },
           "units": {
            "@enum": "false",
            "@type": "mm",
            "unitOpt": {
             "#text": "mm",
             "@conversion": "1"
            }
           },
           "value": null
          },
          {
           "@id": "331",
           "@isInstance": "false",
           "category": "Specifications",
           "description": null,
           "guid": {
            "#text": "c14bfce8-ed25-435a-8665-66bec868c677",
            "@source": "bsDD"
           },
           "name": {
            "#text": "Access Clearance Rear",
            "@idx": "38"
           },
           "notes": "Access required for maintenance of this item",
           "section": {
            "#text": "Dimensional Data",
            "@idx": "3"
           },
           "units": {
            "@enum": "false",
            "@type": "mm",
            "unitOpt": {
             "#text": "mm",
             "@conversion": "1"
            }
           },
           "value": null
          },
          {
           "@id": "404",
           "@isInstance": "false",
           "category": "Specifications",
           "description": null,
           "guid": {
            "#text": "f60c41bb-c65b-4726-9dab-03b12049405b",
            "@source": "BimHawk"
           },
           "name": {
            "#text": "Neck Shape",
            "@idx": "39"
           },
           "notes": null,
           "section": {
            "#text": "Dimensional Data",
            "@idx": "3"
           },
           "units": {
            "@enum": "false",
            "@type": "Enumeration",
            "unitOpt": {
             "#text": "Enumeration",
             "@conversion": "1"
            }
           },
           "value": {
            "enumItem": [
             "Square",
             "Rectangular",
             "Round",
             "Other",
             "NotKnown",
             "Unset"
            ]
           }
          },
          {
           "@id": "405",
           "@isInstance": "false",
           "category": "Specifications",
           "description": null,
           "guid": {
            "#text": "72ceb07a-767f-4d8b-a3d3-c68056117590",
            "@source": "BimHawk"
           },
           "name": {
            "#text": "Neck Length",
            "@idx": "40"
           },
           "notes": "Or Diameter",
           "section": {
            "#text": "Dimensional Data",
            "@idx": "3"
           },
           "units": {
            "@enum": "false",
            "@type": "mm",
            "unitOpt": {
             "#text": "mm",
             "@conversion": "1"
            }
           },
           "value": null
          },
          {
           "@id": "406",
           "@isInstance": "false",
           "category": "Specifications",
           "description": null,
           "guid": {
            "#text": "61dca2e8-73d9-4a78-ac71-e4dfad0aefb6",
            "@source": "BimHawk"
           },
           "name": {
            "#text": "Neck Width",
            "@idx": "41"
           },
           "notes": "For Circular Mark '0'",
           "section": {
            "#text": "Dimensional Data",
            "@idx": "3"
           },
           "units": {
            "@enum": "false",
            "@type": "mm",
            "unitOpt": {
             "#text": "mm",
             "@conversion": "1"
            }
           },
           "value": null
          },
          {
           "@id": "407",
           "@isInstance": "false",
           "category": "Specifications",
           "description": null,
           "guid": {
            "#text": "9107ed00-d1bf-11e1-8000-00215ad4efdf",
            "@source": "bsDD"
           },
           "name": {
            "#text": "Slot Width",
            "@idx": "42"
           },
           "notes": "If Not Applicable Mark '0'",
           "section": {
            "#text": "Dimensional Data",
            "@idx": "3"
           },
           "units": {
            "@enum": "false",
            "@type": "mm",
            "unitOpt": {
             "#text": "mm",
             "@conversion": "1"
            }
           },
           "value": null
          },
          {
           "@id": "408",
           "@isInstance": "false",
           "category": "Specifications",
           "description": null,
           "guid": {
            "#text": "96653780-d1bf-11e1-8000-00215ad4efdf",
            "@source": "bsDD"
           },
           "name": {
            "#text": "Slot Length",
            "@idx": "43"
           },
           "notes": "If Not Applicable Mark '0'",
           "section": {
            "#text": "Dimensional Data",
            "@idx": "3"
           },
           "units": {
            "@enum": "false",
            "@type": "mm",
            "unitOpt": {
             "#text": "mm",
             "@conversion": "1"
            }
           },
           "value": null
          },
          {
           "@id": "409",
           "@isInstance": "false",
           "category": "Specifications",
           "description": null,
           "guid": {
            "#text": "9c5b1880-d1bf-11e1-8000-00215ad4efdf",
            "@source": "bsDD"
           },
           "name": {
            "#text": "Number of Slots",
            "@idx": "44"
           },
           "notes": "If Not Applicable Mark '0'",
           "section": {
            "#text": "Dimensional Data",
            "@idx": "3"
           },
           "units": {
            "@enum": "false",
            "@type": "Number",
            "unitOpt": {
             "#text": "Number",
             "@conversion": "1"
            }
           },
           "value": null
          },
          {
           "@id": "410",
           "@isInstance": "false",
           "category": "Specifications",
           "description": null,
           "guid": {
            "#text": "49ce2c00-d1c0-11e1-8000-00215ad4efdf",
            "@source": "bsDD"
           },
           "name": {
            "#text": "Effective Area",
            "@idx": "45"
           },
           "notes": "At Maximum Length & Width",
           "section": {
            "#text": "Dimensional Data",
            "@idx": "3"
           },
           "units": {
            "@enum": "false",
            "@type": "m",
            "unitOpt": {
             "#text": "m",
             "@conversion": "1000"
            }
           },
           "value": null
          },
          {
           "@id": "411",
           "@isInstance": "false",
           "category": "Specifications",
           "description": null,
           "guid": {
            "#text": "4470e180-d1c0-11e1-8000-00215ad4efdf",
            "@source": "bsDD"
           },
           "name": {
            "#text": "Neck Area",
            "@idx": "46"
           },
           "notes": "At Maximum Length & Width",
           "section": {
            "#text": "Dimensional Data",
            "@idx": "3"
           },
           "units": {
            "@enum": "false",
            "@type": "m",
            "unitOpt": {
             "#text": "m",
             "@conversion": "1000"
            }
           },
           "value": null
          },
          {
           "@id": "412",
           "@isInstance": "false",
           "category": "Specifications",
           "description": null,
           "guid": {
            "#text": "41aff005-6c2b-4149-a299-ad6583924210",
            "@source": "BimHawk"
           },
           "name": {
            "#text": "Plenum Length",
            "@idx": "47"
           },
           "notes": "If Not Applicable Mark '0'",
           "section": {
            "#text": "Dimensional Data",
            "@idx": "3"
           },
           "units": {
            "@enum": "false",
            "@type": "mm",
            "unitOpt": {
             "#text": "mm",
             "@conversion": "1"
            }
           },
           "value": null
          },
          {
           "@id": "413",
           "@isInstance": "false",
           "category": "Specifications",
           "description": null,
           "guid": {
            "#text": "e7af878e-3ec9-4816-92f2-b36ed964d4dc",
            "@source": "BimHawk"
           },
           "name": {
            "#text": "Plenum Width",
            "@idx": "48"
           },
           "notes": "If Not Applicable Mark '0'",
           "section": {
            "#text": "Dimensional Data",
            "@idx": "3"
           },
           "units": {
            "@enum": "false",
            "@type": "mm",
            "unitOpt": {
             "#text": "mm",
             "@conversion": "1"
            }
           },
           "value": null
          },
          {
           "@id": "414",
           "@isInstance": "false",
           "category": "Specifications",
           "description": null,
           "guid": {
            "#text": "e678aa56-66c1-452d-9196-a16e342c6a9c",
            "@source": "BimHawk"
           },
           "name": {
            "#text": "Plenum Height",
            "@idx": "49"
           },
           "notes": "If Not Applicable Mark '0'",
           "section": {
            "#text": "Dimensional Data",
            "@idx": "3"
           },
           "units": {
            "@enum": "false",
            "@type": "mm",
            "unitOpt": {
             "#text": "mm",
             "@conversion": "1"
            }
           },
           "value": null
          },
          {
           "@id": "415",
           "@isInstance": "false",
           "category": "Specifications",
           "description": null,
           "guid": {
            "#text": "4afd53c6-25f6-4a16-bd18-76c07855e588",
            "@source": "BimHawk"
           },
           "name": {
            "#text": "Plenum Shape",
            "@idx": "50"
           },
           "notes": null,
           "section": {
            "#text": "Dimensional Data",
            "@idx": "3"
           },
           "units": {
            "@enum": "false",
            "@type": "Text",
            "unitOpt": {
             "#text": "Text",
             "@conversion": "1"
            }
           },
           "value": null
          },
          {
           "@id": "416",
           "@isInstance": "false",
           "category": "Specifications",
           "description": null,
           "guid": {
            "#text": "66565cbc-4ad2-4171-ae75-5f519f1b7cc6",
            "@source": "BimHawk"
           },
           "name": {
            "#text": "Plenum Acoustic Lining",
            "@idx": "51"
           },
           "notes": null,
           "section": {
            "#text": "Dimensional Data",
            "@idx": "3"
           },
           "units": {
            "@enum": "false",
            "@type": "Y/N",
            "unitOpt": {
             "#text": "Y/N",
             "@conversion": "1"
            }
           },
           "value": {
            "enumItem": [
             "Y",
             "N"
            ]
           }
          },
          {
           "@id": "417",
           "@isInstance": "false",
           "category": "Specifications",
           "description": null,
           "guid": {
            "#text": "a5296301-5860-42c3-8010-3da91dd468e1",
            "@source": "BimHawk"
           },
           "name": {
            "#text": "Number of Duct Connections",
            "@idx": "52"
           },
           "notes": null,
           "section": {
            "#text": "Dimensional Data",
            "@idx": "3"
           },
           "units": {
            "@enum": "false",
            "@type": "Number",
            "unitOpt": {
             "#text": "Number",
             "@conversion": "1"
            }
           },
           "value": null
          },
          {
           "@id": "418",
           "@isInstance": "false",
           "category": "Specifications",
           "description": null,
           "guid": {
            "#text": "86847019-bbfc-4a4e-b0dc-925a4ab8cb50",
            "@source": "BimHawk"
           },
           "name": {
            "#text": "Duct Connection Shape",
            "@idx": "53"
           },
           "notes": null,
           "section": {
            "#text": "Dimensional Data",
            "@idx": "3"
           },
           "units": {
            "@enum": "false",
            "@type": "Enumeration",
            "unitOpt": {
             "#text": "Enumeration",
             "@conversion": "1"
            }
           },
           "value": {
            "enumItem": [
             "Rectangular",
             "Round",
             "Oval"
            ]
           }
          },
          {
           "@id": "419",
           "@isInstance": "false",
           "category": "Specifications",
           "description": null,
           "guid": {
            "#text": "f505f3ad-5d54-4db0-ac40-535b10edf989",
            "@source": "BimHawk"
           },
           "name": {
            "#text": "Duct Connection Height",
            "@idx": "54"
           },
           "notes": "Duct Connection(s) Height (or Diameter)",
           "section": {
            "#text": "Dimensional Data",
            "@idx": "3"
           },
           "units": {
            "@enum": "false",
            "@type": "mm",
            "unitOpt": {
             "#text": "mm",
             "@conversion": "1"
            }
           },
           "value": null
          },
          {
           "@id": "420",
           "@isInstance": "false",
           "category": "Specifications",
           "description": null,
           "guid": {
            "#text": "1ee5fa1c-e70b-432f-8449-1b31e4596b93",
            "@source": "BimHawk"
           },
           "name": {
            "#text": "Duct Connection Width",
            "@idx": "55"
           },
           "notes": "If Not Applicable Mark '0'",
           "section": {
            "#text": "Dimensional Data",
            "@idx": "3"
           },
           "units": {
            "@enum": "false",
            "@type": "mm",
            "unitOpt": {
             "#text": "mm",
             "@conversion": "1"
            }
           },
           "value": null
          },
          {
           "@id": "421",
           "@isInstance": "false",
           "category": "Specifications",
           "description": null,
           "guid": {
            "#text": "e5e43798-365c-434d-a4a4-d4acfdffa556",
            "@source": "BimHawk"
           },
           "name": {
            "#text": "Air Flowrate",
            "@idx": "56"
           },
           "notes": "Air Flowrate at Max Length x Width. Air flowrate range within which the air terminal is designed to operate",
           "section": {
            "#text": "Performance Data",
            "@idx": "4"
           },
           "units": {
            "@enum": "true",
            "@type": "AirFlowRate",
            "unitOpt": [
             {
              "#text": "m3/h",
              "@conversion": "1"
             },
             {
              "#text": "m/s",
              "@conversion": "1"
             }
            ]
           },
           "value": null
          },
          {
           "@id": "422",
           "@isInstance": "false",
           "category": "Specifications",
           "description": null,
           "guid": {
            "#text": "5e588cf6-8b51-46fc-ba2e-ec60c200c922",
            "@source": "BimHawk"
           },
           "name": {
            "#text": "Temperature Range",
            "@idx": "57"
           },
           "notes": "Temperature range within which the air terminal is designed to operate",
           "section": {
            "#text": "Performance Data",
            "@idx": "4"
           },
           "units": {
            "@enum": "false",
            "@type": "DegC",
            "unitOpt": {
             "#text": "DegC",
             "@conversion": "1"
            }
           },
           "value": null
          },
          {
           "@id": "423",
           "@isInstance": "false",
           "category": "Specifications",
           "description": null,
           "guid": {
            "#text": "8487ce6c-32db-4f1e-a669-9f72de20268c",
            "@source": "bsDD"
           },
           "name": {
            "#text": "Throw Length",
            "@idx": "58"
           },
           "notes": "ThrowLength at Max. Length x Width. Distance to 0.25m/s at maximum flow. If not applicable Mark '0'",
           "section": {
            "#text": "Performance Data",
            "@idx": "4"
           },
           "units": {
            "@enum": "false",
            "@type": "m",
            "unitOpt": {
             "#text": "m",
             "@conversion": "1000"
            }
           },
           "value": null
          },
          {
           "@id": "424",
           "@isInstance": "false",
           "category": "Specifications",
           "description": null,
           "guid": {
            "#text": "3a9aae80-d1bf-11e1-8000-00215ad4efdf",
            "@source": "bsDD"
           },
           "name": {
            "#text": "Pressure Drop",
            "@idx": "59"
           },
           "notes": "At Maximum Air Flowrate (above)",
           "section": {
            "#text": "Performance Data",
            "@idx": "4"
           },
           "units": {
            "@enum": "false",
            "@type": "Pa",
            "unitOpt": {
             "#text": "Pa",
             "@conversion": "1"
            }
           },
           "value": null
          },
          {
           "@id": "425",
           "@isInstance": "false",
           "category": "Specifications",
           "description": null,
           "guid": {
            "#text": "ddebc380-d1bf-11e1-8000-00215ad4efdf",
            "@source": "bsDD"
           },
           "name": {
            "#text": "Air Diffusion Performance Index",
            "@idx": "60"
           },
           "notes": "As ASHRAE definition. The Air Diffusion Performance Index (ADPI) is used for cooling mode conditions. If several measurements of air velocity and air temperature are made throughout the occupied zone of a space, the ADPI is the percentage of locations where measurements were taken that meet the specifications for effective draft temperature and air velocity.",
           "section": {
            "#text": "Performance Data",
            "@idx": "4"
           },
           "units": {
            "@enum": "false",
            "@type": "Not defined",
            "unitOpt": {
             "#text": "Not defined",
             "@conversion": "1"
            }
           },
           "value": null
          },
          {
           "@id": "426",
           "@isInstance": "false",
           "category": "Specifications",
           "description": null,
           "guid": {
            "#text": "6aba6d80-8134-11e0-0000-00215ad4efdf",
            "@source": "bsDD"
           },
           "name": {
            "#text": "Noise Level",
            "@idx": "61"
           },
           "notes": "At median Air Flowrate",
           "section": {
            "#text": "Performance Data",
            "@idx": "4"
           },
           "units": {
            "@enum": "false",
            "@type": "dB (SWL)",
            "unitOpt": {
             "#text": "dB (SWL)",
             "@conversion": "1"
            }
           },
           "value": null
          },
          {
           "@id": "396",
           "@isInstance": "false",
           "category": "Specifications",
           "description": null,
           "guid": {
            "#text": "1c92ffcf-2906-4f6d-96bb-58c4b86f66ce",
            "@source": "BimHawk"
           },
           "name": {
            "#text": "Air Flow Type",
            "@idx": "62"
           },
           "notes": "\"Multipurpose\" can be Supply, Extract or Return.",
           "section": {
            "#text": "Application Data",
            "@idx": "6"
           },
           "units": {
            "@enum": "false",
            "@type": "Enumeration",
            "unitOpt": {
             "#text": "Enumeration",
             "@conversion": "1"
            }
           },
           "value": {
            "enumItem": [
             "Supply",
             "Extract",
             "Return",
             "Multipurpose",
             "Other",
             "NotKnown",
             "Unset"
            ]
           }
          },
          {
           "@id": "397",
           "@isInstance": "false",
           "category": "Specifications",
           "description": null,
           "guid": {
            "#text": "fae7c8ba-8ac1-444c-8ca9-38d8ac11d7a1",
            "@source": "BimHawk"
           },
           "name": {
            "#text": "Application",
            "@idx": "63"
           },
           "notes": "e.g. floor, ceiling, wall, door, duct, etc.",
           "section": {
            "#text": "Application Data",
            "@idx": "6"
           },
           "units": {
            "@enum": "false",
            "@type": "Text",
            "unitOpt": {
             "#text": "Text",
             "@conversion": "1"
            }
           },
           "value": null
          },
          {
           "@id": "398",
           "@isInstance": "false",
           "category": "Specifications",
           "description": null,
           "guid": {
            "#text": "f6f47480-d1bf-11e1-8000-00215ad4efdf",
            "@source": "bsDD"
           },
           "name": {
            "#text": "MountingType",
            "@idx": "64"
           },
           "notes": "e.g. Surface, Flat Flush, etc.",
           "section": {
            "#text": "Application Data",
            "@idx": "6"
           },
           "units": {
            "@enum": "false",
            "@type": "Enumeration",
            "unitOpt": {
             "#text": "Enumeration",
             "@conversion": "1"
            }
           },
           "value": {
            "enumItem": [
             "Surface",
             "FlatFlush",
             "LayIn",
             "Other",
             "NotKnown",
             "Unset"
            ]
           }
          },
          {
           "@id": "399",
           "@isInstance": "false",
           "category": "Specifications",
           "description": null,
           "guid": {
            "#text": "5d459114-03b9-48f0-94ca-dc01a9bbd129",
            "@source": "BimHawk"
           },
           "name": {
            "#text": "Flange Type",
            "@idx": "65"
           },
           "notes": "Or Border Type",
           "section": {
            "#text": "Application Data",
            "@idx": "6"
           },
           "units": {
            "@enum": "false",
            "@type": "Text",
            "unitOpt": {
             "#text": "Text",
             "@conversion": "1"
            }
           },
           "value": null
          },
          {
           "@id": "400",
           "@isInstance": "false",
           "category": "Specifications",
           "description": null,
           "guid": {
            "#text": "a250f980-d1bf-11e1-8000-00215ad4efdf",
            "@source": "bsDD"
           },
           "name": {
            "#text": "Flow Pattern",
            "@idx": "66"
           },
           "notes": null,
           "section": {
            "#text": "Application Data",
            "@idx": "6"
           },
           "units": {
            "@enum": "false",
            "@type": "Enumeration",
            "unitOpt": {
             "#text": "Enumeration",
             "@conversion": "1"
            }
           },
           "value": {
            "enumItem": [
             "1Way",
             "2Way",
             "3Way",
             "4Way",
             "Radial",
             "Swirl",
             "Displacment",
             "Jet",
             "Other",
             "NotKnown",
             "Unset"
            ]
           }
          },
          {
           "@id": "401",
           "@isInstance": "false",
           "category": "Specifications",
           "description": null,
           "guid": {
            "#text": "c6acd600-d1bf-11e1-8000-00215ad4efdf",
            "@source": "bsDD"
           },
           "name": {
            "#text": "Discharge Direction",
            "@idx": "67"
           },
           "notes": null,
           "section": {
            "#text": "Application Data",
            "@idx": "6"
           },
           "units": {
            "@enum": "false",
            "@type": "Enumeration",
            "unitOpt": {
             "#text": "Enumeration",
             "@conversion": "1"
            }
           },
           "value": {
            "enumItem": [
             "parallel",
             "perpendicular",
             "adjustable",
             "other",
             "notknown",
             "unset"
            ]
           }
          },
          {
           "@id": "389",
           "@isInstance": "false",
           "category": "Specifications",
           "description": null,
           "guid": {
            "#text": "a5fc1524-9eb1-4874-9eae-1f9a2fa5653e",
            "@source": "BimHawk"
           },
           "name": {
            "#text": "Volume Control Damper",
            "@idx": "68"
           },
           "notes": null,
           "section": {
            "#text": "Accessories",
            "@idx": "18"
           },
           "units": {
            "@enum": "false",
            "@type": "Y/N",
            "unitOpt": {
             "#text": "Y/N",
             "@conversion": "1"
            }
           },
           "value": {
            "enumItem": [
             "Y",
             "N"
            ]
           }
          },
          {
           "@id": "390",
           "@isInstance": "false",
           "category": "Specifications",
           "description": null,
           "guid": {
            "#text": "54c9b3c4-4a2f-4e5d-88b7-295884e49c8f",
            "@source": "BimHawk"
           },
           "name": {
            "#text": "Fire Damper",
            "@idx": "69"
           },
           "notes": null,
           "section": {
            "#text": "Accessories",
            "@idx": "18"
           },
           "units": {
            "@enum": "false",
            "@type": "Y/N",
            "unitOpt": {
             "#text": "Y/N",
             "@conversion": "1"
            }
           },
           "value": {
            "enumItem": [
             "Y",
             "N"
            ]
           }
          },
          {
           "@id": "391",
           "@isInstance": "false",
           "category": "Specifications",
           "description": null,
           "guid": {
            "#text": "45342d6e-748d-4a81-bbd5-fdb9954686c5",
            "@source": "BimHawk"
           },
           "name": {
            "#text": "Intumescent Block",
            "@idx": "70"
           },
           "notes": null,
           "section": {
            "#text": "Accessories",
            "@idx": "18"
           },
           "units": {
            "@enum": "false",
            "@type": "Y/N",
            "unitOpt": {
             "#text": "Y/N",
             "@conversion": "1"
            }
           },
           "value": {
            "enumItem": [
             "Y",
             "N"
            ]
           }
          },
          {
           "@id": "392",
           "@isInstance": "false",
           "category": "Specifications",
           "description": null,
           "guid": {
            "#text": "5f37b08a-6162-11e1-8000-00215ad4efdf",
            "@source": "bsDD"
           },
           "name": {
            "#text": "Plenum",
            "@idx": "71"
           },
           "notes": null,
           "section": {
            "#text": "Accessories",
            "@idx": "18"
           },
           "units": {
            "@enum": "false",
            "@type": "Y/N",
            "unitOpt": {
             "#text": "Y/N",
             "@conversion": "1"
            }
           },
           "value": {
            "enumItem": [
             "Y",
             "N"
            ]
           }
          },
          {
           "@id": "393",
           "@isInstance": "false",
           "category": "Specifications",
           "description": null,
           "guid": {
            "#text": "98c74555-2069-493c-ad1b-b4f403ee5a07",
            "@source": "BimHawk"
           },
           "name": {
            "#text": "Blanking Plates",
            "@idx": "72"
           },
           "notes": null,
           "section": {
            "#text": "Accessories",
            "@idx": "18"
           },
           "units": {
            "@enum": "false",
            "@type": "Y/N",
            "unitOpt": {
             "#text": "Y/N",
             "@conversion": "1"
            }
           },
           "value": {
            "enumItem": [
             "Y",
             "N"
            ]
           }
          },
          {
           "@id": "394",
           "@isInstance": "false",
           "category": "Specifications",
           "description": null,
           "guid": {
            "#text": "c5f03967-854f-4201-ac66-abb92924e294",
            "@source": "BimHawk"
           },
           "name": {
            "#text": "Concealed Fixings",
            "@idx": "73"
           },
           "notes": null,
           "section": {
            "#text": "Accessories",
            "@idx": "18"
           },
           "units": {
            "@enum": "false",
            "@type": "Y/N",
            "unitOpt": {
             "#text": "Y/N",
             "@conversion": "1"
            }
           },
           "value": {
            "enumItem": [
             "Y",
             "N"
            ]
           }
          },
          {
           "@id": "395",
           "@isInstance": "false",
           "category": "Specifications",
           "description": null,
           "guid": {
            "#text": "b70a5cf5-84d0-4fa8-887f-332c1f6d34a2",
            "@source": "BimHawk"
           },
           "name": {
            "#text": "Rear Deflection Blades",
            "@idx": "74"
           },
           "notes": null,
           "section": {
            "#text": "Accessories",
            "@idx": "18"
           },
           "units": {
            "@enum": "false",
            "@type": "Y/N",
            "unitOpt": {
             "#text": "Y/N",
             "@conversion": "1"
            }
           },
           "value": {
            "enumItem": [
             "Y",
             "N"
            ]
           }
          },
          {
           "@id": "370",
           "@isInstance": "false",
           "category": "Sustainable Material BREEAM etc",
           "description": null,
           "guid": {
            "#text": "e8bbb01c-35d1-46e7-af17-c3edd601307e",
            "@source": "BimHawk"
           },
           "name": {
            "#text": "Embodied Carbon",
            "@idx": "75"
           },
           "notes": "Awaiting Industry Standard",
           "section": {
            "#text": "Sustainability",
            "@idx": "201"
           },
           "units": {
            "@enum": "false",
            "@type": "kgCO2e",
            "unitOpt": {
             "#text": "kgCO2e",
             "@conversion": "1"
            }
           },
           "value": null
          },
          {
           "@id": "37",
           "@isInstance": "false",
           "category": "Sustainable Material BREEAM etc",
           "description": null,
           "guid": {
            "#text": "c12e04ee-6ef1-4e82-90c3-d20ff522a1f2",
            "@source": "bsDD"
           },
           "name": {
            "#text": "Life Cycle Analysis",
            "@idx": "76"
           },
           "notes": "Awaiting Industry Standard",
           "section": {
            "#text": "Sustainability",
            "@idx": "201"
           },
           "units": {
            "@enum": "false",
            "@type": "Number",
            "unitOpt": {
             "#text": "Number",
             "@conversion": "1"
            }
           },
           "value": null
          },
          {
           "@id": "38",
           "@isInstance": "false",
           "category": "Sustainable Material BREEAM etc",
           "description": null,
           "guid": {
            "#text": "bd706975-43ad-48f8-a296-b2a33cc64e22",
            "@source": "BimHawk"
           },
           "name": {
            "#text": "Location of Manufacturer",
            "@idx": "77"
           },
           "notes": "Awaiting Industry Standard",
           "section": {
            "#text": "Sustainability",
            "@idx": "201"
           },
           "units": {
            "@enum": "false",
            "@type": "GridRef",
            "unitOpt": {
             "#text": "GridRef",
             "@conversion": "1"
            }
           },
           "value": null
          },
          {
           "@id": "39",
           "@isInstance": "false",
           "category": "Sustainable Material BREEAM etc",
           "description": null,
           "guid": {
            "#text": "d2169bbc-3bfd-4acc-bbf5-05362363cc34",
            "@source": "bsDD"
           },
           "name": {
            "#text": "Green Guide for Specification",
            "@idx": "78"
           },
           "notes": "Awaiting Industry Standard",
           "section": {
            "#text": "Sustainability",
            "@idx": "201"
           },
           "units": {
            "@enum": "false",
            "@type": "Enumeration",
            "unitOpt": {
             "#text": "Enumeration",
             "@conversion": "1"
            }
           },
           "value": {
            "enumItem": [
             "A",
             "B",
             "C",
             "D",
             "E"
            ]
           }
          },
          {
           "@id": "40",
           "@isInstance": "false",
           "category": "Sustainable Material BREEAM etc",
           "description": null,
           "guid": {
            "#text": "6b044a8c-8376-45c4-bd8f-71c3f4bd10c1",
            "@source": "bsDD"
           },
           "name": {
            "#text": "Environmental Product Declaration",
            "@idx": "79"
           },
           "notes": "3rd Party Verification",
           "section": {
            "#text": "Sustainability",
            "@idx": "201"
           },
           "units": {
            "@enum": "false",
            "@type": "Text",
            "unitOpt": {
             "#text": "Text",
             "@conversion": "1"
            }
           },
           "value": null
          },
          {
           "@id": "41",
           "@isInstance": "false",
           "category": "Sustainable Material BREEAM etc",
           "description": null,
           "guid": {
            "#text": "02454a4e-e8d4-4191-a2d2-1307d12943f5",
            "@source": "bsDD"
           },
           "name": {
            "#text": "Responsible Sourcing of Materials",
            "@idx": "80"
           },
           "notes": "Awaiting Industry Standard",
           "section": {
            "#text": "Sustainability",
            "@idx": "201"
           },
           "units": {
            "@enum": "false",
            "@type": "Enumeration",
            "unitOpt": {
             "#text": "Enumeration",
             "@conversion": "1"
            }
           },
           "value": {
            "enumItem": [
             "FSC",
             "PEFC",
             "EMS",
             "GDES"
            ]
           }
          },
          {
           "@id": "42",
           "@isInstance": "false",
           "category": "Sustainable Material ETL",
           "description": null,
           "guid": {
            "#text": "1cda39d7-bb8a-4f60-88bf-2c92c59f5f8d",
            "@source": "BimHawk"
           },
           "name": {
            "#text": "Energy Technology List",
            "@idx": "81"
           },
           "notes": "Hyperlink to ETL webpage for product",
           "section": {
            "#text": "Sustainability",
            "@idx": "201"
           },
           "units": {
            "@enum": "false",
            "@type": "URL",
            "unitOpt": {
             "#text": "URL",
             "@conversion": "1"
            }
           },
           "value": null
          },
          {
           "@id": "43",
           "@isInstance": "false",
           "category": "Sustainable Material LEED v.4",
           "description": null,
           "guid": {
            "#text": "3babaad6-7182-484c-a191-9ef47c13dbbc",
            "@source": "bsDD"
           },
           "name": {
            "#text": "Responsible Extraction of Materials",
            "@idx": "82"
           },
           "notes": "Awaiting Industry Standard",
           "section": {
            "#text": "Sustainability",
            "@idx": "201"
           },
           "units": {
            "@enum": "false",
            "@type": "Text",
            "unitOpt": {
             "#text": "Text",
             "@conversion": "1"
            }
           },
           "value": null
          },
          {
           "@id": "44",
           "@isInstance": "false",
           "category": "Sustainable Material LEED v.4",
           "description": null,
           "guid": {
            "#text": "818d1636-783f-4267-973c-58fb3a11bbff",
            "@source": "bsDD"
           },
           "name": {
            "#text": "Material Ingredient Reporting",
            "@idx": "83"
           },
           "notes": "Awaiting Industry Standard",
           "section": {
            "#text": "Sustainability",
            "@idx": "201"
           },
           "units": {
            "@enum": "false",
            "@type": "Text",
            "unitOpt": {
             "#text": "Text",
             "@conversion": "1"
            }
           },
           "value": null
          },
          {
           "@id": "667",
           "@isInstance": "false",
           "category": "Facilities/Asset Management",
           "description": null,
           "guid": {
            "#text": "d0829749-fe7c-47c3-b92f-d3426672c498",
            "@source": "BimHawk"
           },
           "name": {
            "#text": "Operation and Maintenance Manual",
            "@idx": "84"
           },
           "notes": "Hyperlink to Manufacturer O&M Data",
           "section": {
            "#text": "Operations & Maintenance",
            "@idx": "202"
           },
           "units": {
            "@enum": "false",
            "@type": "URL",
            "unitOpt": {
             "#text": "URL",
             "@conversion": "1"
            }
           },
           "value": null
          },
          {
           "@id": "46",
           "@isInstance": "false",
           "category": "Facilities/Asset Management",
           "description": null,
           "guid": {
            "#text": "4d60383c-d18c-485d-97ac-61e58e3d170c",
            "@source": "bsDD"
           },
           "name": {
            "#text": "Daily",
            "@idx": "85"
           },
           "notes": "Maintenance tasks or SFG20 codes",
           "section": {
            "#text": "Operations & Maintenance",
            "@idx": "202"
           },
           "units": {
            "@enum": "false",
            "@type": "Text",
            "unitOpt": {
             "#text": "Text",
             "@conversion": "1"
            }
           },
           "value": null
          },
          {
           "@id": "47",
           "@isInstance": "false",
           "category": "Facilities/Asset Management",
           "description": null,
           "guid": {
            "#text": "8c445ac0-47ab-49a2-a713-d65e9df05d1a",
            "@source": "bsDD"
           },
           "name": {
            "#text": "Weekly",
            "@idx": "86"
           },
           "notes": "Maintenance tasks or SFG20 codes",
           "section": {
            "#text": "Operations & Maintenance",
            "@idx": "202"
           },
           "units": {
            "@enum": "false",
            "@type": "Text",
            "unitOpt": {
             "#text": "Text",
             "@conversion": "1"
            }
           },
           "value": null
          },
          {
           "@id": "371",
           "@isInstance": "false",
           "category": "Facilities/Asset Management",
           "description": null,
           "guid": {
            "#text": "3fc6c8e4-facd-45af-bbdc-126322058041",
            "@source": "BimHawk"
           },
           "name": {
            "#text": "Monthly",
            "@idx": "87"
           },
           "notes": "Maintenance tasks or SFG20 codes. If Not Applicable Mark '0'",
           "section": {
            "#text": "Operations & Maintenance",
            "@idx": "202"
           },
           "units": {
            "@enum": "false",
            "@type": "Text",
            "unitOpt": {
             "#text": "Text",
             "@conversion": "1"
            }
           },
           "value": null
          },
          {
           "@id": "48",
           "@isInstance": "false",
           "category": "Facilities/Asset Management",
           "description": null,
           "guid": {
            "#text": "c8f61bf2-f46d-4d62-8a9d-afe308099f40",
            "@source": "BimHawk"
           },
           "name": {
            "#text": "Quarterly",
            "@idx": "88"
           },
           "notes": "Maintenance tasks or SFG20 codes",
           "section": {
            "#text": "Operations & Maintenance",
            "@idx": "202"
           },
           "units": {
            "@enum": "false",
            "@type": "Text",
            "unitOpt": {
             "#text": "Text",
             "@conversion": "1"
            }
           },
           "value": null
          },
          {
           "@id": "49",
           "@isInstance": "false",
           "category": "Facilities/Asset Management",
           "description": null,
           "guid": {
            "#text": "1d86f1dd-7572-429c-a7b1-92e8c23ef408",
            "@source": "BimHawk"
           },
           "name": {
            "#text": "6 Monthly",
            "@idx": "89"
           },
           "notes": null,
           "section": {
            "#text": "Operations & Maintenance",
            "@idx": "202"
           },
           "units": {
            "@enum": "false",
            "@type": "Text",
            "unitOpt": {
             "#text": "Text",
             "@conversion": "1"
            }
           },
           "value": null
          },
          {
           "@id": "50",
           "@isInstance": "false",
           "category": "Facilities/Asset Management",
           "description": null,
           "guid": {
            "#text": "0549c028-c2f2-4c51-9a31-eaa88180592c",
            "@source": "BimHawk"
           },
           "name": {
            "#text": "Annually",
            "@idx": "90"
           },
           "notes": null,
           "section": {
            "#text": "Operations & Maintenance",
            "@idx": "202"
           },
           "units": {
            "@enum": "false",
            "@type": "Text",
            "unitOpt": {
             "#text": "Text",
             "@conversion": "1"
            }
           },
           "value": null
          },
          {
           "@id": "51",
           "@isInstance": "false",
           "category": "Facilities/Asset Management",
           "description": null,
           "guid": {
            "#text": "e2fe4f12-d251-45c7-8573-48d4518d6323",
            "@source": "BimHawk"
           },
           "name": {
            "#text": "Bespoke Timeframe",
            "@idx": "91"
           },
           "notes": "Maintenance tasks or SFG20 codes",
           "section": {
            "#text": "Operations & Maintenance",
            "@idx": "202"
           },
           "units": {
            "@enum": "false",
            "@type": "Text",
            "unitOpt": {
             "#text": "Text",
             "@conversion": "1"
            }
           },
           "value": null
          },
          {
           "@id": "52",
           "@isInstance": "false",
           "category": "Facilities/Asset Management",
           "description": null,
           "guid": {
            "#text": "97c6b16c-4750-4bad-b2ef-1a3f62d63401",
            "@source": "BimHawk"
           },
           "name": {
            "#text": "Maintenance Required 0 to 300hrs",
            "@idx": "92"
           },
           "notes": "Maintenance tasks required during this time frame",
           "section": {
            "#text": "Operations & Maintenance",
            "@idx": "202"
           },
           "units": {
            "@enum": "false",
            "@type": "Text",
            "unitOpt": {
             "#text": "Text",
             "@conversion": "1"
            }
           },
           "value": null
          },
          {
           "@id": "53",
           "@isInstance": "false",
           "category": "Facilities/Asset Management",
           "description": null,
           "guid": {
            "#text": "a3e00180-11bc-4fc1-963c-00a0cf5c704c",
            "@source": "BimHawk"
           },
           "name": {
            "#text": "Maintenance Required 301 to 600hrs",
            "@idx": "93"
           },
           "notes": "Maintenance tasks required during this time frame",
           "section": {
            "#text": "Operations & Maintenance",
            "@idx": "202"
           },
           "units": {
            "@enum": "false",
            "@type": "Text",
            "unitOpt": {
             "#text": "Text",
             "@conversion": "1"
            }
           },
           "value": null
          },
          {
           "@id": "54",
           "@isInstance": "false",
           "category": "Facilities/Asset Management",
           "description": null,
           "guid": {
            "#text": "cc69d734-f9b6-4403-a595-e2741b514527",
            "@source": "BimHawk"
           },
           "name": {
            "#text": "Maintenance Required 601 to 1000hrs",
            "@idx": "94"
           },
           "notes": "Maintenance tasks required during this time frame",
           "section": {
            "#text": "Operations & Maintenance",
            "@idx": "202"
           },
           "units": {
            "@enum": "false",
            "@type": "Text",
            "unitOpt": {
             "#text": "Text",
             "@conversion": "1"
            }
           },
           "value": null
          },
          {
           "@id": "55",
           "@isInstance": "false",
           "category": "Facilities/Asset Management",
           "description": null,
           "guid": {
            "#text": "1414a9bf-3837-4cf4-aecb-f5e35770c9b0",
            "@source": "BimHawk"
           },
           "name": {
            "#text": "Maintenance Required 1001 to 2000hrs",
            "@idx": "95"
           },
           "notes": "Maintenance tasks required during this time frame",
           "section": {
            "#text": "Operations & Maintenance",
            "@idx": "202"
           },
           "units": {
            "@enum": "false",
            "@type": "Text",
            "unitOpt": {
             "#text": "Text",
             "@conversion": "1"
            }
           },
           "value": null
          },
          {
           "@id": "56",
           "@isInstance": "false",
           "category": "Facilities/Asset Management",
           "description": null,
           "guid": {
            "#text": "e4e2f615-9c22-4cd5-8347-2496bfe67280",
            "@source": "BimHawk"
           },
           "name": {
            "#text": "Maintenance Required 2001 to 4000hrs",
            "@idx": "96"
           },
           "notes": "Maintenance tasks required during this time frame",
           "section": {
            "#text": "Operations & Maintenance",
            "@idx": "202"
           },
           "units": {
            "@enum": "false",
            "@type": "Text",
            "unitOpt": {
             "#text": "Text",
             "@conversion": "1"
            }
           },
           "value": null
          },
          {
           "@id": "57",
           "@isInstance": "false",
           "category": "Facilities/Asset Management",
           "description": null,
           "guid": {
            "#text": "e3a0f217-93bd-4d15-93e7-3ad33c3ffd30",
            "@source": "BimHawk"
           },
           "name": {
            "#text": "Maintenance Required 4001 to 8000hrs",
            "@idx": "97"
           },
           "notes": "Maintenance tasks required during this time frame",
           "section": {
            "#text": "Operations & Maintenance",
            "@idx": "202"
           },
           "units": {
            "@enum": "false",
            "@type": "Text",
            "unitOpt": {
             "#text": "Text",
             "@conversion": "1"
            }
           },
           "value": null
          },
          {
           "@id": "58",
           "@isInstance": "false",
           "category": "Facilities/Asset Management",
           "description": null,
           "guid": {
            "#text": "77e5f5d2-0821-4602-8d64-96dc037ec879",
            "@source": "BimHawk"
           },
           "name": {
            "#text": "Maintenance Required 8001 to 12000hrs",
            "@idx": "98"
           },
           "notes": "Maintenance tasks required during this time frame",
           "section": {
            "#text": "Operations & Maintenance",
            "@idx": "202"
           },
           "units": {
            "@enum": "false",
            "@type": "Text",
            "unitOpt": {
             "#text": "Text",
             "@conversion": "1"
            }
           },
           "value": null
          },
          {
           "@id": "59",
           "@isInstance": "false",
           "category": "Facilities/Asset Management",
           "description": null,
           "guid": {
            "#text": "ae7c73bd-df81-4a62-bce8-f05b3751413d",
            "@source": "bsDD"
           },
           "name": {
            "#text": "Expected Life",
            "@idx": "99"
           },
           "notes": null,
           "section": {
            "#text": "Operations & Maintenance",
            "@idx": "202"
           },
           "units": {
            "@enum": "false",
            "@type": "Years",
            "unitOpt": {
             "#text": "Years",
             "@conversion": "1"
            }
           },
           "value": null
          },
          {
           "@id": "60",
           "@isInstance": "false",
           "category": "Facilities/Asset Management",
           "description": null,
           "guid": {
            "#text": "3ceb889e-7fe6-46cd-9f00-53ee0eb599c7",
            "@source": "bsDD"
           },
           "name": {
            "#text": "Warranty ID",
            "@idx": "100"
           },
           "notes": null,
           "section": {
            "#text": "Operations & Maintenance",
            "@idx": "202"
           },
           "units": {
            "@enum": "false",
            "@type": "Text",
            "unitOpt": {
             "#text": "Text",
             "@conversion": "1"
            }
           },
           "value": null
          }
         ]
        }
       }
      },
      "text/plain": [
       "<IPython.core.display.JSON object>"
      ]
     },
     "metadata": {
      "application/json": {
       "expanded": false,
       "root": "root"
      }
     },
     "output_type": "display_data"
    },
    {
     "data": {
      "application/vnd.jupyter.widget-view+json": {
       "model_id": "f286c9644a974569b365ac0b0a6f31ad",
       "version_major": 2,
       "version_minor": 0
      },
      "text/plain": [
       "Tab(children=(Grid(columns_fit='size_to_fit', compress_data=True, export_mode='auto', height='700px', menu={'b…"
      ]
     },
     "metadata": {},
     "output_type": "display_data"
    }
   ],
   "source": [
    "import os\n",
    "import pandas as pd\n",
    "import sys\n",
    "import pathlib\n",
    "from IPython.display import Markdown\n",
    "import xmltodict\n",
    "from ipywidgets import widgets\n",
    "from dataclasses import dataclass, asdict, field\n",
    "from ipyaggrid import Grid\n",
    "\n",
    "from _autoui import EditListOfDicts\n",
    "%run _utils.py\n",
    "\n",
    "# +\n",
    "class PdtLayouts():\n",
    "    @property\n",
    "    def box_layout_split(self):\n",
    "        return widgets.Layout(display='flex',\n",
    "                            flex_flow='columns',\n",
    "                            align_items='stretch',\n",
    "                            border='solid',\n",
    "                            width='50%')\n",
    "    @property\n",
    "    def box_layout_hide(self):\n",
    "        return widgets.Layout(display='flex',\n",
    "                            flex_flow='columns',\n",
    "                            align_items='stretch',\n",
    "                            border='solid',\n",
    "                            width='5%')\n",
    "    \n",
    "    @property\n",
    "    def box_layout_expand(self):\n",
    "        return widgets.Layout(display='flex',\n",
    "                            flex_flow='columns',\n",
    "                            align_items='stretch',\n",
    "                            border='solid',\n",
    "                            width='95%')\n",
    "    \n",
    "    @property\n",
    "    def box_layout_full(self):\n",
    "        return widgets.Layout(display='flex',\n",
    "                            flex_flow='columns',\n",
    "                            align_items='stretch',\n",
    "                            border='solid',\n",
    "                            width='100%')\n",
    "\n",
    "def get_di_default_types(fpths):\n",
    "    \"\"\"\n",
    "    reads the data from all the CIBSE pdt xml fpths given and\n",
    "    creates a list of all unique unit types:\n",
    "    json_pdt['pdt']['params']['parameter']['units']['@type']\n",
    "    and gives a default value to match the type (so the app \n",
    "    interprets numbers as numbers, text as text etc.)\n",
    "    \"\"\"\n",
    "    def get_unit_types(fpth):\n",
    "        json_pdt = xml_to_json(fpth,display_xml=False)\n",
    "        params = json_pdt['pdt']['params']['parameter']\n",
    "        units = [param['units'] for param in params]\n",
    "        unit_types = [unit['@type'] for unit in units]\n",
    "        return list(set(unit_types))\n",
    "    def get_all_unit_types(fpths):\n",
    "        all_unit_types = []\n",
    "        for fpth in fpths:\n",
    "            all_unit_types = all_unit_types + get_unit_types(fpth)\n",
    "        return list(set(all_unit_types))\n",
    "    unit_types = get_all_unit_types(fpths)\n",
    "    di_default_types = {unit:0 for unit in unit_types}\n",
    "    di_default_types['Text'] = 'Text'\n",
    "    di_default_types['URL'] = 'URL'\n",
    "    return di_default_types\n",
    "\n",
    "def get_description(param):\n",
    "    unittype = get_unittype(param)\n",
    "    des = param['description']\n",
    "    if des is None:\n",
    "        des = unittype\n",
    "    else:\n",
    "        des = unittype + ', ' + des\n",
    "    return des\n",
    "        \n",
    "def get_unittype(param):\n",
    "    return param['units']['@type']\n",
    "\n",
    "def get_di_ui(param,di_default_types):\n",
    "    name = param['name']['#text']\n",
    "    di_ui = {\n",
    "        'name':name,\n",
    "        'label':get_description(param)\n",
    "    }\n",
    "    value, options, dtype = get_values_options(param,di_default_types=di_default_types)\n",
    "    di_ui['value'] = value\n",
    "    if options is not None:\n",
    "        di_ui['options'] = options\n",
    "    return di_ui\n",
    "\n",
    "def get_lidi_ui(params,di_default_types):\n",
    "    lidi_ui = []\n",
    "    for param in params:\n",
    "        di_ui = get_di_ui(param,di_default_types)\n",
    "        lidi_ui.append(di_ui)\n",
    "    return lidi_ui\n",
    "\n",
    "\n",
    "# -- \n",
    "def get_options(param):\n",
    "    try:\n",
    "        options = param['value']['enumItem']\n",
    "    except:\n",
    "        options = None\n",
    "    return options\n",
    "        \n",
    "def get_values_options(param,di_default_types=None):\n",
    "    options = get_options(param)\n",
    "    if options is not None:\n",
    "        value = options[0]\n",
    "    else:\n",
    "        if di_default_types is not None:\n",
    "            value = di_default_types[get_unittype(param)]\n",
    "            \n",
    "        else:\n",
    "            value = param['value']\n",
    "    dtype = str(type(value))\n",
    "    return value, options, dtype\n",
    "\n",
    "def unpack_param(param,di_default_types=None):\n",
    "    value, options, dtype = get_values_options(param,di_default_types=di_default_types)\n",
    "    di = {\n",
    "        'guid':[param['guid']['#text']],\n",
    "        'guid_source':[param['guid']['@source']],\n",
    "        'name':[param['name']['#text']],\n",
    "        'idx':[param['name']['@idx']],\n",
    "        'description':[param['description']],\n",
    "        'notes':[param['notes']],\n",
    "        'category':[param['category']],\n",
    "        'section':[param['section']['#text']],\n",
    "        'units_type':[param['units']['@type']],\n",
    "        'options':[options],\n",
    "        'value':[value],\n",
    "        'dtype':[dtype]\n",
    "            }\n",
    "    return di\n",
    "\n",
    "def get_df_params(params,di_default_types=None):\n",
    "    df = df_from_list_of_dicts(params, list(params[0].keys()))\n",
    "    li = []\n",
    "    cols = ['index','guid','guid_source']\n",
    "    df_params = pd.DataFrame(columns=cols)\n",
    "    for index, row in df.iterrows():\n",
    "        di = {'index':[index]}\n",
    "        di.update(unpack_param(row,di_default_types=di_default_types))\n",
    "        df_params = df_params.append(pd.DataFrame.from_dict(di))\n",
    "    df_params = df_params.set_index('index',drop=True)\n",
    "    df_params['description'] = df_params['description'].fillna('')\n",
    "    df_params['label'] = df_params.units_type #+ ', ' + df_params.description\n",
    "    return df_params\n",
    "# --\n",
    "\n",
    "@dataclass\n",
    "class PdtLayouts():\n",
    "    box_layout_split = widgets.Layout(display='flex',\n",
    "                            flex_flow='columns',\n",
    "                            align_items='stretch',\n",
    "                            border='solid',\n",
    "                            width='50%')\n",
    "    \n",
    "    box_layout_hide = widgets.Layout(display='flex',\n",
    "                            flex_flow='columns',\n",
    "                            align_items='stretch',\n",
    "                            border='solid',\n",
    "                            width='5%')\n",
    "    \n",
    "    box_layout_expand = widgets.Layout(display='flex',\n",
    "                            flex_flow='columns',\n",
    "                            align_items='stretch',\n",
    "                            border='solid',\n",
    "                            width='95%')\n",
    "    \n",
    "    box_layout_full = widgets.Layout(display='flex',\n",
    "                            flex_flow='columns',\n",
    "                            align_items='stretch',\n",
    "                            border='solid',\n",
    "                            width='100%')\n",
    "    \n",
    "       \n",
    "class CibsePdtBase():  \n",
    "    \n",
    "    def __init__(self,fpth_xmlpdt, di_default_types):\n",
    "        self.fpth_xmlpdt = fpth_xmlpdt\n",
    "        self.di_default_types = di_default_types\n",
    "        self._init_CibsePdtBase()\n",
    "        \n",
    "    def _init_CibsePdtBase(self):\n",
    "        self.json_pdt = xml_to_json(self.fpth_xmlpdt,display_xml=False)\n",
    "        self.df_params = self._get_df_params()\n",
    "        \n",
    "    @property\n",
    "    def json_pdt(self): \n",
    "        return self._json_pdt \n",
    "    \n",
    "    @json_pdt.setter\n",
    "    def json_pdt(self, json_pdt):\n",
    "        self._json_pdt = json_pdt\n",
    "        \n",
    "    @property\n",
    "    def df_params(self): \n",
    "        return self._df_params\n",
    "    \n",
    "    @df_params.setter\n",
    "    def df_params(self, df_params):\n",
    "        self._df_params = df_params\n",
    "        \n",
    "    def _get_df_params(self):\n",
    "        return get_df_params(self.params,di_default_types=self.di_default_types)\n",
    "    \n",
    "    @property\n",
    "    def params(self):\n",
    "        return self.json_pdt['pdt']['params']['parameter']\n",
    "        \n",
    "    @property\n",
    "    def header(self):\n",
    "        return self.json_pdt['pdt']['header']\n",
    "    \n",
    "    @property\n",
    "    def header_md(self):\n",
    "        #str_md = \"\"\"\"\"\"\n",
    "        #for k,v in self.json_pdt['pdt']['header'].items():\n",
    "        #    str_md = str_md+'__{0}__: {1}<br>'.format(k,v)\n",
    "            \n",
    "        str_md = pd.DataFrame.from_dict(\n",
    "            self.json_pdt['pdt']['header'],\n",
    "            orient='index').rename(columns={0:'header'}\n",
    "                                  ).to_markdown()\n",
    "        return str_md\n",
    "    \n",
    "    @property\n",
    "    def header_display(self):\n",
    "        display(Markdown(self.header_md))\n",
    "        \n",
    "class CibsePdtUI(CibsePdtBase,PdtLayouts):\n",
    "    \n",
    "    def __init__(self,fpth_xmlpdt, di_default_types):\n",
    "        self.fpth_xmlpdt = fpth_xmlpdt\n",
    "        self.di_default_types = di_default_types\n",
    "        self._init_CibsePdtUI()\n",
    "\n",
    "    def _init_CibsePdtUI(self):\n",
    "        self._init_CibsePdtBase()\n",
    "        #self.get_ui_inputs()\n",
    "        self._ui_data()\n",
    "        self._buildui()\n",
    "        self._init_controls()\n",
    "        #self._init_form()\n",
    "        \n",
    "    @property\n",
    "    def sections(self):    \n",
    "        return self.df_params.section.unique()\n",
    "    \n",
    "    def _ui_data(self):    \n",
    "        cols = ['name','value','label','options']\n",
    "        self.ui_data = {}\n",
    "        for s in self.sections:\n",
    "            self.ui_data[s] = self.df_params.query('section == \"{0}\"'.format(s))[cols].to_dict('records')\n",
    "        \n",
    "    def _buildui(self):\n",
    "        self.ui_bits = {}\n",
    "        self.ui_section = {}\n",
    "        for section,di_params in self.ui_data.items():\n",
    "            button_showhide = widgets.ToggleButton(description='+', layout=widgets.Layout(width='30px'),tooltip='show / hide section parameters',style={'font_weight': 'bold','button_color':'white'})       \n",
    "            title = widgets.HTML('<b>{0}</b>'.format(section))\n",
    "            header = widgets.HBox([button_showhide,title])\n",
    "            ui_params = EditListOfDicts(di_params).applayout\n",
    "            ui_container = widgets.VBox([])\n",
    "            ui_section = widgets.VBox([header,ui_container])\n",
    "            self.ui_bits[section]={}\n",
    "            self.ui_bits[section]['button_showhide'] = button_showhide\n",
    "            self.ui_bits[section]['title'] = title\n",
    "            self.ui_bits[section]['header'] = header\n",
    "            self.ui_bits[section]['ui_params'] = ui_params\n",
    "            self.ui_bits[section]['ui_container'] = ui_container\n",
    "            self.ui_section[section] = ui_section\n",
    "        self.pdtname = os.path.splitext(os.path.basename(self.fpth_xmlpdt))[0]\n",
    "        self.title = widgets.HTML('<b>{0}</b>'.format(self.pdtname))\n",
    "        children = [v for k,v in self.ui_section.items()] #[self.title] + \n",
    "        self.ui = widgets.VBox(children)    #, layout=self.box_layout_split\n",
    "            \n",
    "    def _init_controls(self):\n",
    "        for section in self.sections:\n",
    "            self.ui_bits[section]['button_showhide'].observe(self.showhide_section, names='value')\n",
    "            \n",
    "    def showhide_section(self,onchange):\n",
    "        for section in self.sections:\n",
    "            if self.ui_bits[section]['button_showhide'].value:\n",
    "                self.ui_bits[section]['ui_container'].children = [self.ui_bits[section]['ui_params']]\n",
    "                self.ui_bits[section]['button_showhide'].description = '-'\n",
    "            else:\n",
    "                self.ui_bits[section]['ui_container'].children = []\n",
    "                self.ui_bits[section]['button_showhide'].description = '+'\n",
    "            \n",
    "    def display_CibsePdtUI(self):\n",
    "        display(self.ui)   \n",
    "            \n",
    "    def _ipython_display_(self):\n",
    "        self.display_CibsePdtUI()      \n",
    "\n",
    "\n",
    "# +\n",
    "def gen_column_defs(li,getkey='aggrid_column_defs',ignoreifnokey=False):\n",
    "    \"\"\"\n",
    "    generates column definitions\n",
    "    \"\"\"\n",
    "    def create_coldef_di(l,getkey):\n",
    "        di = {'field':l['name'],'headerName':l['name'],'sortable':True}\n",
    "        try:\n",
    "            if 'editable' in l[getkey].keys():\n",
    "                if 'options' in l.keys():\n",
    "                    di.update({'cellEditor' : 'agSelectCellEditor'})\n",
    "                    di.update({'cellEditorParams':{'values':l['options']}})\n",
    "        except:\n",
    "            pass\n",
    "        try:\n",
    "            di.update(l[getkey])\n",
    "        except:\n",
    "            pass\n",
    "        return di\n",
    "    li1 = []\n",
    "    for l in li:\n",
    "        if ignoreifnokey and getkey not in l.keys():\n",
    "            pass\n",
    "        else:\n",
    "            di = create_coldef_di(l,getkey)\n",
    "            li1.append(di)\n",
    "    return li1\n",
    "\n",
    "def default_grid_options(col_defs):\n",
    "    \"\"\"\n",
    "    global column definitions for AG-Grid\n",
    "    \"\"\"\n",
    "    grid_options = {\n",
    "        'columnDefs': col_defs,\n",
    "        'defaultColDef': {\n",
    "            'flex': 1,\n",
    "            'minWidth': 80,\n",
    "            'resizable': True,\n",
    "            },\n",
    "        'rowSelection': 'multiple',\n",
    "        'sortable':True,\n",
    "        'filter': True,\n",
    "        'resizable': True,\n",
    "        'enableRangeSelection': True,\n",
    "        'suppressRowClickSelection': True,\n",
    "        'columns_fit':\"auto\",\n",
    "        'enableCellTextSelection':True\n",
    "    } \n",
    "    return grid_options\n",
    "\n",
    "def default_init_grid(grid_data,\n",
    "                      grid_options,\n",
    "                      height=700,\n",
    "                      quick_filter=True,\n",
    "                      keep_multiindex=True,\n",
    "                      theme='ag-theme-balham',\n",
    "                      sync_on_edit=True,\n",
    "                      export_mode='auto'\n",
    "                     ):\n",
    "    return Grid(\n",
    "            grid_data=grid_data,\n",
    "            grid_options=grid_options,\n",
    "            height=height,\n",
    "            quick_filter=quick_filter,\n",
    "            keep_multiindex=keep_multiindex,\n",
    "            theme=theme,\n",
    "            #js_helpers_custom = HELPERS_CUSTOM,\n",
    "            sync_on_edit=sync_on_edit,\n",
    "            export_mode=export_mode\n",
    "               )\n",
    "\n",
    "def make_col_def(name):\n",
    "    return  {\n",
    "        'name':name,\n",
    "        'label':name,\n",
    "        'aggrid_column_defs':{'columnGroupShow': 'closed'}\n",
    "    }\n",
    "\n",
    "def make_gr_tmp(pdt_ui):\n",
    "    df_tmp1 = pdt_ui.df_params.set_index(['section', 'name'])\n",
    "    index = df_tmp1.index\n",
    "    row = pdt_ui.df_params.set_index(['section', 'name']).value \n",
    "    df_data = pd.DataFrame(index = index)\n",
    "    li_grilles = ['GR'+str(n) for n in range(0,10)]\n",
    "    \n",
    "    for l in li_grilles:\n",
    "        df_data[l] = row\n",
    "    return df_data.reset_index(), li_grilles\n",
    "\n",
    "# +\n",
    "\n",
    "fdir = pathlib.Path('data')\n",
    "fpth_pdts = recursive_glob(rootdir=fdir,pattern='*.xml',recursive=False)\n",
    "fpth_pdt = fpth_pdts[0]\n",
    "\n",
    "fpth_pdts  = fpth_pdts + [fpth_pdt] #\n",
    "\n",
    "json_pdt = xml_to_json(fpth_pdt,display_xml=True)\n",
    "di_default_types = get_di_default_types(fpth_pdts)\n",
    "fpth_default_types = pathlib.Path('data/default_types.json')\n",
    "write_json(di_default_types,fpth=fpth_default_types)\n",
    "pdt_ui = CibsePdtUI(fpth_pdt,di_default_types)\n",
    "defs = [\n",
    "    {\n",
    "        'name':'section',\n",
    "        'label':'section',\n",
    "        'aggrid_column_defs':{'minWidth':150,\n",
    "                              'type': 'textColumn',\n",
    "                              'pinned':'left',\n",
    "                              'headerCheckboxSelection': True,\n",
    "                              'headerCheckboxSelectionFilteredOnly': True,\n",
    "                              'checkboxSelection': True},\n",
    "    },\n",
    "    {\n",
    "        'name':'name',\n",
    "        'label':'name',\n",
    "        'aggrid_column_defs':{'columnGroupShow': 'closed','pinned':'left'}\n",
    "    },\n",
    "]\n",
    "\n",
    "type_mark = 'GR1'\n",
    "cols = ['section','name','value']\n",
    "#df_tmp = pdt_ui.df_params[cols].rename(columns={'value':type_mark})\n",
    "df_tmp, li_grilles = make_gr_tmp(pdt_ui)\n",
    "defs = defs + [make_col_def(name) for name in li_grilles]\n",
    "defs = gen_column_defs(defs, getkey='aggrid_column_defs', ignoreifnokey=False)\n",
    "grid_options = default_grid_options(defs)\n",
    "gr_tmp = default_init_grid(df_tmp,grid_options)\n",
    "\n",
    "# box left ---------------------\n",
    "# header\n",
    "hide = widgets.Button(icon='eye-slash',layout={'width':'40px'})\n",
    "copydialogue = widgets.Button(icon='copy')\n",
    "adddialogue = widgets.Button(icon='plus')\n",
    "removedialogue = widgets.Button(icon='minus')\n",
    "box_header = widgets.HBox([\n",
    "    hide, \n",
    "    copydialogue,\n",
    "    adddialogue,\n",
    "    removedialogue])#,layout=pdt_ui.box_layout_split\n",
    "\n",
    "# copy dialogue \n",
    "copy = widgets.Button(description='copy data', button_style='success')\n",
    "copyfrom= widgets.Dropdown(description='copy from:', options=li_grilles)\n",
    "copyto= widgets.SelectMultiple(description='copy to:', value=[], options=li_grilles)\n",
    "params = widgets.Dropdown(description='parameters:', options=['all', 'selected rows'])\n",
    "box_copy = widgets.HBox([\n",
    "    copy,\n",
    "    copyfrom,\n",
    "    copyto,\n",
    "    params\n",
    "])\n",
    "\n",
    "# add dialogue\n",
    "add = widgets.Button(description='add new', button_style='success')\n",
    "addfrom = widgets.Dropdown(description='copy from:', options=li_grilles)\n",
    "box_add = widgets.HBox([\n",
    "    add,\n",
    "    addfrom,\n",
    "])\n",
    "\n",
    "# add dialogue\n",
    "remove = widgets.Button(description='remove', button_style='danger')\n",
    "removefrom = widgets.SelectMultiple(description='remove:', options=li_grilles)\n",
    "box_remove = widgets.HBox([\n",
    "    remove,\n",
    "    removefrom,\n",
    "])\n",
    "\n",
    "# make right containers\n",
    "box_data = widgets.VBox([gr_tmp])\n",
    "title_left = f\"All instances of {pdt_ui.pdtname}'s in project\"\n",
    "title_left = widgets.HTML(f'<b>{title_left}</b>')\n",
    "box_left = widgets.VBox([title_left,box_header,box_data], layout=pdt_ui.box_layout_split)\n",
    "\n",
    "# box left ---------------------\n",
    "title_right = f\"Editable instance of {pdt_ui.pdtname}\"\n",
    "title_right = widgets.HTML(f'<b>{title_right}</b>')\n",
    "selectitem = widgets.Dropdown(description='edit item:', options=li_grilles)\n",
    "saveitem = widgets.Button(description='save', icon='save', button_style='success')\n",
    "box_edititem = widgets.HBox([selectitem, saveitem])\n",
    "box_right = widgets.VBox([title_right, box_edititem, pdt_ui.ui],layout=pdt_ui.box_layout_split)\n",
    "\n",
    "# box pdts ---------------------\n",
    "box_pdts = widgets.HBox([box_left,box_right])\n",
    "\n",
    "def copydialogue_onclick(click):\n",
    "    box_data.children = [box_copy, gr_tmp]\n",
    "    \n",
    "def adddialogue_onclick(click):\n",
    "    box_data.children = [box_add, gr_tmp]\n",
    "\n",
    "def removedialogue_onclick(click):\n",
    "    box_data.children = [box_remove, gr_tmp]\n",
    "    \n",
    "def hide_onclick(click):\n",
    "    box_data.children = [gr_tmp]\n",
    "        \n",
    "copydialogue.on_click(copydialogue_onclick)\n",
    "adddialogue.on_click(adddialogue_onclick)\n",
    "removedialogue.on_click(removedialogue_onclick)\n",
    "hide.on_click(hide_onclick)\n",
    "\n",
    "tab = widgets.Tab()\n",
    "tab.children = [gr_tmp,box_pdts]\n",
    "tab.set_title(0,'template data')\n",
    "tab.set_title(1,'project data')\n",
    "tab.selected_index = 1\n",
    "\n",
    "tab"
   ]
  }
 ],
 "metadata": {
  "kernelspec": {
   "display_name": "Python 3",
   "language": "python",
   "name": "python3"
  },
  "language_info": {
   "codemirror_mode": {
    "name": "ipython",
    "version": 3
   },
   "file_extension": ".py",
   "mimetype": "text/x-python",
   "name": "python",
   "nbconvert_exporter": "python",
   "pygments_lexer": "ipython3",
   "version": "3.9.4"
  }
 },
 "nbformat": 4,
 "nbformat_minor": 5
}
